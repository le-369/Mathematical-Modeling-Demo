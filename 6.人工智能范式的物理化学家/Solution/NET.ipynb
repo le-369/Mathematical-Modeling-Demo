{
 "cells": [
  {
   "cell_type": "code",
   "execution_count": 1,
   "metadata": {},
   "outputs": [],
   "source": [
    "import warnings\n",
    "import pandas as pd\n",
    "import numpy as np\n",
    "import seaborn as sns\n",
    "import matplotlib.pyplot as plt\n",
    "import plotly.express as px\n",
    "\n",
    "from  sklearn.decomposition import  PCA\n",
    "from sklearn import preprocessing\n",
    "from sklearn import tree\n",
    "from sklearn.manifold import TSNE\n",
    "from xgboost import XGBClassifier\n",
    "from sklearn.naive_bayes import GaussianNB\n",
    "from sklearn.linear_model import LogisticRegression\n",
    "from sklearn.discriminant_analysis import LinearDiscriminantAnalysis\n",
    "from sklearn.neighbors import KNeighborsClassifier\n",
    "from sklearn.tree import DecisionTreeClassifier\n",
    "from sklearn.ensemble import RandomForestClassifier\n",
    "from sklearn import svm\n",
    "from sklearn import metrics\n",
    "from sklearn.feature_selection import SelectKBest\n",
    "from sklearn.feature_selection import f_classif\n",
    "from sklearn.model_selection import train_test_split\n",
    "\n",
    "\n",
    "pd.set_option('display.max_columns',None)\n",
    "warnings.filterwarnings('ignore')\n",
    "%matplotlib inline "
   ]
  },
  {
   "cell_type": "code",
   "execution_count": null,
   "metadata": {},
   "outputs": [],
   "source": [
    "# 首次转换为feather格式\n",
    "data1 = pd.read_csv('../data.csv')\n",
    "data1.to_feather('data1.feather')\n",
    "\n",
    "data = pd.read_excel('features1.xlsx')\n",
    "data.to_feather('features1.feather')"
   ]
  },
  {
   "cell_type": "code",
   "execution_count": null,
   "metadata": {},
   "outputs": [],
   "source": [
    "data_ = pd.read_feather('data1.feather')\n",
    "class_ = data_['class']\n",
    "data__ = pd.read_feather('features1.feather')\n",
    "# 假设你的特征集是 data，目标变量是 class_\n",
    "features = data__  # 特征集\n",
    "y_ = class_  # 目标变量"
   ]
  },
  {
   "cell_type": "markdown",
   "metadata": {},
   "source": [
    "去噪后新文件"
   ]
  },
  {
   "cell_type": "code",
   "execution_count": 18,
   "metadata": {},
   "outputs": [],
   "source": [
    "demo = pd.read_feather('classes_with_DBSCAN.feather')\n",
    "class_ = demo['class']\n",
    "features = demo.drop(columns=['class'])"
   ]
  },
  {
   "cell_type": "code",
   "execution_count": 19,
   "metadata": {},
   "outputs": [],
   "source": [
    "from sklearn.preprocessing import StandardScaler\n",
    "scaler = StandardScaler()\n",
    "X = scaler.fit_transform(features)\n",
    "y = pd.Series(class_)"
   ]
  },
  {
   "cell_type": "code",
   "execution_count": 20,
   "metadata": {},
   "outputs": [],
   "source": [
    "x_train, x_test, y_train, y_test = train_test_split(X, y, test_size=0.2, shuffle=True)"
   ]
  },
  {
   "cell_type": "markdown",
   "metadata": {},
   "source": [
    "随机森林"
   ]
  },
  {
   "cell_type": "code",
   "execution_count": null,
   "metadata": {},
   "outputs": [],
   "source": [
    "from sklearn.ensemble import RandomForestClassifier\n",
    "from sklearn import metrics  \n",
    "rf = RandomForestClassifier().fit(x_train,y_train)\n",
    "\n",
    "# 计算训练和测试集的准确率\n",
    "train_acc = metrics.accuracy_score(y_train, rf.predict(x_train))\n",
    "test_acc = metrics.accuracy_score(y_test, rf.predict(x_test))\n",
    "print(f'Train Accuracy: {train_acc}')\n",
    "print(f'Test Accuracy: {test_acc}')\n"
   ]
  },
  {
   "cell_type": "markdown",
   "metadata": {},
   "source": [
    "随机森林and梯度特征消除"
   ]
  },
  {
   "cell_type": "code",
   "execution_count": 21,
   "metadata": {},
   "outputs": [
    {
     "name": "stdout",
     "output_type": "stream",
     "text": [
      "Train Accuracy: 1.0\n",
      "Test Accuracy: 0.9552803577571379\n",
      "Feature Ranking: [15 70 48 13 85 30  4 46 26 28  6  1  1 53 62 44 42 77 60 73  1  1 16 65\n",
      " 82 20 83 19 75  3 33 71 76 93  1 67 72 69  1 51 21 36 63  8  9  1 17 78\n",
      "  1  1 50 81 94 47 11 31 34 68 25 45 88 22 59 14 80 55 29 90 64 74 24 38\n",
      " 23 56 91 40 87 35 43 49 39 18 58 84 37  2  7 52 89 10 86 61 27 66  5  1\n",
      " 57 79 12 92 32 41 54]\n"
     ]
    }
   ],
   "source": [
    "from sklearn.ensemble import RandomForestClassifier\n",
    "from sklearn import metrics  \n",
    "from sklearn.feature_selection import RFE\n",
    "\n",
    "rf = RandomForestClassifier()\n",
    "rfe = RFE(estimator=rf, n_features_to_select=10)\n",
    "rfe = rfe.fit(x_train, y_train)\n",
    "# 选择特征\n",
    "x_train_rfe = rfe.transform(x_train)\n",
    "x_test_rfe = rfe.transform(x_test)\n",
    "# 在选择的特征上训练随机森林分类器\n",
    "rf.fit(x_train_rfe, y_train)\n",
    "\n",
    "# 计算训练和测试集的准确率\n",
    "train_acc = metrics.accuracy_score(y_train, rf.predict(x_train_rfe))\n",
    "test_acc = metrics.accuracy_score(y_test, rf.predict(x_test_rfe))\n",
    "\n",
    "print(f'Train Accuracy: {train_acc}')\n",
    "print(f'Test Accuracy: {test_acc}')\n",
    "\n",
    "# 打印特征排名\n",
    "print(\"Feature Ranking:\", rfe.ranking_)"
   ]
  },
  {
   "cell_type": "markdown",
   "metadata": {},
   "source": [
    "lda"
   ]
  },
  {
   "cell_type": "code",
   "execution_count": null,
   "metadata": {},
   "outputs": [],
   "source": [
    "lda = LinearDiscriminantAnalysis().fit(x_train, y_train)\n",
    "train_acc = metrics.accuracy_score(y_train,lda.predict(x_train))\n",
    "test_acc = metrics.accuracy_score(y_test, lda.predict(x_test))\n",
    "print(f'Train Accuracy: {train_acc}')\n",
    "print(f'Test Accuracy: {test_acc}')"
   ]
  },
  {
   "cell_type": "markdown",
   "metadata": {},
   "source": [
    "k近邻"
   ]
  },
  {
   "cell_type": "code",
   "execution_count": null,
   "metadata": {},
   "outputs": [],
   "source": [
    "knn = KNeighborsClassifier(n_neighbors=30).fit(x_train, y_train)\n",
    "train_acc = metrics.accuracy_score(y_train,knn.predict(x_train))\n",
    "test_acc = metrics.accuracy_score(y_test, knn.predict(x_test))\n",
    "print(f'Train Accuracy: {train_acc}')\n",
    "print(f'Test Accuracy: {test_acc}')"
   ]
  },
  {
   "cell_type": "markdown",
   "metadata": {},
   "source": [
    "贝叶斯判别"
   ]
  },
  {
   "cell_type": "code",
   "execution_count": null,
   "metadata": {},
   "outputs": [],
   "source": [
    "gnb = GaussianNB().fit(x_train, y_train)\n",
    "train_acc_b = metrics.accuracy_score(y_train,gnb.predict(x_train))\n",
    "test_acc_b = metrics.accuracy_score(y_test, gnb.predict(x_test))\n",
    "print(f'Train Accuracy: {train_acc_b}')\n",
    "print(f'Test Accuracy: {test_acc_b}')"
   ]
  },
  {
   "cell_type": "markdown",
   "metadata": {},
   "source": [
    "决策树"
   ]
  },
  {
   "cell_type": "code",
   "execution_count": 11,
   "metadata": {},
   "outputs": [
    {
     "name": "stdout",
     "output_type": "stream",
     "text": [
      "Train Accuracy: 1.0\n",
      "Test Accuracy: 0.6761477045908184\n"
     ]
    }
   ],
   "source": [
    "tdt = DecisionTreeClassifier().fit(x_train, y_train)\n",
    "train_acc1 = metrics.accuracy_score(y_train,tdt.predict(x_train))\n",
    "test_acc1 = metrics.accuracy_score(y_test, tdt.predict(x_test))\n",
    "print(f'Train Accuracy: {train_acc1}')\n",
    "print(f'Test Accuracy: {test_acc1}')"
   ]
  },
  {
   "cell_type": "markdown",
   "metadata": {},
   "source": [
    "XGBOOST Classifier"
   ]
  },
  {
   "cell_type": "code",
   "execution_count": null,
   "metadata": {},
   "outputs": [],
   "source": [
    "le = preprocessing.LabelEncoder().fit(y_train)\n",
    "y_xgb_train = le.transform(y_train)\n",
    "y_xgb_test = le.transform(y_test)\n",
    "\n",
    "xgb_params = {'n_estimators': 100,\n",
    "              'learning_rate': 0.2,\n",
    "              'subsample': 0.927,\n",
    "              'colsample_bytree': 0.88,\n",
    "              'max_depth': 5,\n",
    "              'booster': 'gbtree', \n",
    "              'reg_lambda': 38,\n",
    "              'reg_alpha': 32,\n",
    "              'random_state': 12}\n",
    "xgb = XGBClassifier(**xgb_params).fit(x_train, y_xgb_train)\n",
    "accuracy1 = metrics.accuracy_score(y_train,xgb.predict(x_train))\n",
    "accuracy2 = metrics.accuracy_score(y_test, xgb.predict(x_test))\n",
    "print(f'Train Accuracy: {train_acc}')\n",
    "print(f'Test Accuracy: {test_acc}')"
   ]
  },
  {
   "cell_type": "code",
   "execution_count": 12,
   "metadata": {},
   "outputs": [
    {
     "name": "stdout",
     "output_type": "stream",
     "text": [
      "Train Accuracy: 0.7448674080410608\n",
      "Test Accuracy: 0.7360279441117764\n"
     ]
    }
   ],
   "source": [
    "from sklearn.linear_model import LogisticRegression\n",
    "logistic = LogisticRegression()\n",
    "logistic.fit(x_train,y_train)\n",
    "train_acc_l = metrics.accuracy_score(y_train,logistic.predict(x_train))\n",
    "test_acc_l = metrics.accuracy_score(y_test, logistic.predict(x_test))\n",
    "print(f'Train Accuracy: {train_acc_l}')\n",
    "print(f'Test Accuracy: {test_acc_l}')"
   ]
  },
  {
   "cell_type": "markdown",
   "metadata": {},
   "source": []
  }
 ],
 "metadata": {
  "kernelspec": {
   "display_name": "base",
   "language": "python",
   "name": "python3"
  },
  "language_info": {
   "codemirror_mode": {
    "name": "ipython",
    "version": 3
   },
   "file_extension": ".py",
   "mimetype": "text/x-python",
   "name": "python",
   "nbconvert_exporter": "python",
   "pygments_lexer": "ipython3",
   "version": "3.11.5"
  }
 },
 "nbformat": 4,
 "nbformat_minor": 2
}
