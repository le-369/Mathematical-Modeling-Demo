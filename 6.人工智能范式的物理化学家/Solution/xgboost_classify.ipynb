{
 "cells": [
  {
   "cell_type": "code",
   "execution_count": null,
   "metadata": {},
   "outputs": [],
   "source": [
    "import xgboost as xgb\n",
    "from sklearn.model_selection import GridSearchCV, train_test_split\n",
    "from sklearn.metrics import accuracy_score\n",
    "import warnings\n",
    "import numpy as np\n",
    "import matplotlib.pyplot as plt\n",
    "from xgboost import plot_importance\n",
    "import numpy as np\n",
    "import pandas as pd\n",
    "warnings.filterwarnings('ignore')"
   ]
  },
  {
   "cell_type": "markdown",
   "metadata": {},
   "source": [
    "y1"
   ]
  },
  {
   "cell_type": "markdown",
   "metadata": {},
   "source": [
    "第四问"
   ]
  },
  {
   "cell_type": "code",
   "execution_count": null,
   "metadata": {},
   "outputs": [],
   "source": [
    "demo = pd.read_feather('classes_DB_IQR.feather')\n",
    "class_ = demo['class']\n",
    "features = demo.drop(columns=['class'])"
   ]
  },
  {
   "cell_type": "code",
   "execution_count": null,
   "metadata": {},
   "outputs": [],
   "source": [
    "from sklearn.preprocessing import StandardScaler\n",
    "scaler = StandardScaler()\n",
    "X = scaler.fit_transform(features)\n",
    "y = pd.Series(class_)\n",
    "y = y-1"
   ]
  },
  {
   "cell_type": "code",
   "execution_count": null,
   "metadata": {},
   "outputs": [],
   "source": [
    "from xgboost import XGBClassifier\n",
    "xgb_param_grid = {\n",
    "    'max_depth': [5, 6, 7],\n",
    "    'learning_rate': [0.04, 0.05, 0.06],\n",
    "    'n_estimators': [150, 200, 250],\n",
    "    'min_child_weight': [2, 3, 4],\n",
    "    'scale_pos_weight': [0.2, 0.5, 0.8],\n",
    "    'subsample': [0.8, 0.9, 1],  \n",
    "    'colsample_bytree': [0.3, 0.5, 0.8],\n",
    "    'colsample_bylevel': [0.7, 0.8, 0.9], \n",
    "    'reg_alpha': [0.01, 0.05, 0.1],  \n",
    "    'reg_lambda': [0.05, 0.1, 0.2], \n",
    "    'max_delta_step': [1, 2, 3],    \n",
    "    'gamma': [0, 0.1, 0.2]\n",
    "}\n",
    "xgb = XGBClassifier(random_state=0)"
   ]
  },
  {
   "cell_type": "code",
   "execution_count": null,
   "metadata": {},
   "outputs": [],
   "source": [
    "# 数据集划分为训练集和测试集\n",
    "X_train, X_test, y_train, y_test = train_test_split(X, y, test_size=0.2)"
   ]
  },
  {
   "cell_type": "code",
   "execution_count": null,
   "metadata": {},
   "outputs": [],
   "source": [
    "# Initialize the XGBoost Classifier using optimal hyperparameters\n",
    "xgb_opt = XGBClassifier(max_depth=6,\n",
    "                        learning_rate=0.05,\n",
    "                        n_estimators=200,  \n",
    "                        min_child_weight=2,\n",
    "                        scale_pos_weight=0.5,\n",
    "                        subsample=0.9 ,\n",
    "                        colsample_bytree=0.5,\n",
    "                        colsample_bylevel=0.8 ,\n",
    "                        reg_alpha=0.05 ,\n",
    "                        reg_lambda=0.1 ,\n",
    "                        max_delta_step=2 ,\n",
    "                        gamma=0.1,\n",
    "                        random_state=0)\n",
    "\n",
    "# Train the XGBoost classifier\n",
    "xgb_opt.fit(X_train, y_train)"
   ]
  },
  {
   "cell_type": "code",
   "execution_count": null,
   "metadata": {},
   "outputs": [],
   "source": [
    "# 输出准确率\n",
    "train_acc = accuracy_score(y_train, xgb_opt.predict(X_train))\n",
    "print(f\"The accuracy score is {train_acc:.5f}\")\n",
    "test_acc = accuracy_score(y_test, xgb_opt.predict(X_test))\n",
    "print(f\"The accuracy score is {test_acc:.5f}\")"
   ]
  },
  {
   "cell_type": "code",
   "execution_count": null,
   "metadata": {},
   "outputs": [],
   "source": [
    "# 可视化特征重要性\n",
    "plt.figure(figsize=(10, 8))\n",
    "plot_importance(xgb_opt, importance_type='weight')  # 你可以使用 'weight', 'gain', 'cover' 三种不同的指标\n",
    "plt.title('Feature Importance')\n",
    "plt.show()"
   ]
  },
  {
   "cell_type": "code",
   "execution_count": null,
   "metadata": {},
   "outputs": [],
   "source": [
    "from sklearn.metrics import confusion_matrix, ConfusionMatrixDisplay\n",
    "\n",
    "# 计算并可视化混淆矩阵\n",
    "cm = confusion_matrix(y_test, xgb_opt.predict(X_test))\n",
    "cmd = ConfusionMatrixDisplay(cm, display_labels=xgb_opt.classes_)\n",
    "\n",
    "plt.figure(figsize=(8, 8))\n",
    "cmd.plot(cmap=plt.cm.Blues, values_format='d')\n",
    "plt.title('Confusion Matrix')\n",
    "plt.show()\n"
   ]
  },
  {
   "cell_type": "code",
   "execution_count": null,
   "metadata": {},
   "outputs": [],
   "source": [
    "# 获取特征重要性并排序\n",
    "importance_dict = xgb_opt.get_booster().get_score(importance_type='weight')\n",
    "sorted_importance = sorted(importance_dict.items(), key=lambda item: item[1], reverse=True)\n",
    "\n",
    "# 获取前10个特征\n",
    "top_10_features = sorted_importance[:10]\n",
    "top_10_names = [feature for feature, importance in top_10_features]\n",
    "top_10_importance = [importance for feature, importance in top_10_features]\n",
    "print(top_10_features)"
   ]
  },
  {
   "cell_type": "code",
   "execution_count": null,
   "metadata": {},
   "outputs": [],
   "source": []
  }
 ],
 "metadata": {
  "kernelspec": {
   "display_name": "base",
   "language": "python",
   "name": "python3"
  },
  "language_info": {
   "codemirror_mode": {
    "name": "ipython",
    "version": 3
   },
   "file_extension": ".py",
   "mimetype": "text/x-python",
   "name": "python",
   "nbconvert_exporter": "python",
   "pygments_lexer": "ipython3",
   "version": "3.11.5"
  }
 },
 "nbformat": 4,
 "nbformat_minor": 2
}
